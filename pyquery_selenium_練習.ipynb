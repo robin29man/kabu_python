{
 "cells": [
  {
   "cell_type": "code",
   "execution_count": 2,
   "metadata": {},
   "outputs": [
    {
     "name": "stdout",
     "output_type": "stream",
     "text": [
      "輸送用機器\n"
     ]
    }
   ],
   "source": [
    "# まずは業種を取得する。\n",
    "# 静的なサイトなのでpyqueryを用いる。\n",
    "from pyquery import PyQuery as pq\n",
    "\n",
    "q = pq('https://kabutan.jp/stock/?code=7203')\n",
    "sector = q.find('#stockinfo_i2 a')[0].text#table.kobetsu_data_table2 a')[0].text\n",
    "print(sector)"
   ]
  },
  {
   "cell_type": "code",
   "execution_count": null,
   "metadata": {},
   "outputs": [],
   "source": [
    "# 今度は最小単位を取ってみる。\n",
    "# seleniumを練習するため動的なサイトである株mapというサイトから。\n",
    "from selenium import webdriver as wd\n",
    "\n",
    "url = 'https://jp.kabumap.com/servlets/kabumap/Action' \\\n",
    "        '?SRC=basic/top/base&codetext=7203'\n",
    "driver = wd.Chrome()\n",
    "driver.get(url)\n",
    "\n",
    "unit = driver.find_element_by_css_selector('#minUnit').text\n",
    "\n",
    "print(unit)"
   ]
  },
  {
   "cell_type": "code",
   "execution_count": 69,
   "metadata": {},
   "outputs": [
    {
     "name": "stdout",
     "output_type": "stream",
     "text": [
      "1\n"
     ]
    }
   ],
   "source": [
    "    code = 1319\n",
    "    \n",
    "    url = 'https://kabutan.jp/stock/?code={}'.format(code)\n",
    "    \n",
    "    q = pq(url)\n",
    "\n",
    "    if len(q.find('.si_i1_dl1')) == 0:\n",
    "        None\n",
    "    else:\n",
    "        print(len(q.find('.si_i1_dl1')))\n"
   ]
  },
  {
   "cell_type": "code",
   "execution_count": 89,
   "metadata": {},
   "outputs": [
    {
     "data": {
      "text/plain": [
       "10"
      ]
     },
     "execution_count": 89,
     "metadata": {},
     "output_type": "execute_result"
    }
   ],
   "source": [
    "    code = 1306\n",
    "    \n",
    "    url = 'https://kabutan.jp/stock/?code={}'.format(code)\n",
    "    \n",
    "    q = pq(url)        \n",
    "    \n",
    "    unit_str = q.find('#stockinfo_i2 dd')[1].text\n",
    "    unit = int(unit_str.split('株')[0].replace(',',''))\n",
    "    \n",
    "    unit\n"
   ]
  },
  {
   "cell_type": "code",
   "execution_count": 86,
   "metadata": {},
   "outputs": [],
   "source": [
    "# 関数定義\n",
    "from pyquery import PyQuery as pq\n",
    "import time\n",
    "import sqlite3\n",
    "\n",
    "def get_brand(code):\n",
    "    url = 'https://kabutan.jp/stock/?code={}'.format(code)\n",
    "    \n",
    "    q = pq(url)\n",
    "\n",
    "    if len(q.find('.si_i1_dl1')) == 0:\n",
    "        return None\n",
    "\n",
    "    try:\n",
    "        name = q.find('#kobetsu_right h3')[0].text\n",
    "        short_name = q.find('.topicpath span')[1].text.split('(', 1)[0]\n",
    "        market = q.find('.market')[0].text\n",
    "        unit_str = q.find('#stockinfo_i2 dd')[1].text\n",
    "        unit = int(unit_str.split('株')[0].replace(',',''))\n",
    "        sector = q.find('#stockinfo_i2 a')[0].text\n",
    "    except ValueError:\n",
    "        return None\n",
    "    \n",
    "    return code, name, short_name, market, unit, sector\n",
    "\n",
    "def brands_generator(code_range):\n",
    "    for code in code_range:\n",
    "        brand = get_brand(code)\n",
    "        if brand:\n",
    "            yield brand\n",
    "        time.sleep(1)\n",
    "        \n",
    "def insert_brand_to_db(db_file_name, code_range):\n",
    "    conn = sqlite3.connect(db_file_name)\n",
    "    with conn:\n",
    "        sql = 'INSERT INTO brands(code, name, short_name, market, unit, sector) VALUES(?,?,?,?,?,?)'\n",
    "        conn.executemany(sql, brands_generator(code_range))\n"
   ]
  },
  {
   "cell_type": "code",
   "execution_count": 96,
   "metadata": {},
   "outputs": [],
   "source": [
    "insert_brand_to_db('kabu_python.sqlite3', range(7000, 9999))"
   ]
  },
  {
   "cell_type": "code",
   "execution_count": null,
   "metadata": {},
   "outputs": [],
   "source": []
  }
 ],
 "metadata": {
  "kernelspec": {
   "display_name": "Python 3",
   "language": "python",
   "name": "python3"
  },
  "language_info": {
   "codemirror_mode": {
    "name": "ipython",
    "version": 3
   },
   "file_extension": ".py",
   "mimetype": "text/x-python",
   "name": "python",
   "nbconvert_exporter": "python",
   "pygments_lexer": "ipython3",
   "version": "3.6.5"
  }
 },
 "nbformat": 4,
 "nbformat_minor": 2
}
